{
 "cells": [
  {
   "cell_type": "markdown",
   "id": "40e48c1c",
   "metadata": {},
   "source": [
    "## 🔹 Bước 1: Tạo môi trường Conda"
   ]
  },
  {
   "cell_type": "markdown",
   "id": "85dd1710",
   "metadata": {},
   "source": [
    "- conda create -n face_blur_env python=3.10 -y\n",
    "- conda activate face_blur_env\n"
   ]
  },
  {
   "cell_type": "markdown",
   "id": "d9cbf291",
   "metadata": {},
   "source": []
  },
  {
   "cell_type": "markdown",
   "id": "90eea585",
   "metadata": {},
   "source": [
    "## 🔹 Bước 2: Cài các thư viện có sẵn trên conda-forge\n",
    "- conda install -c conda-forge numpy pillow python-multipart -y\n"
   ]
  },
  {
   "cell_type": "markdown",
   "id": "fef9a6ee",
   "metadata": {},
   "source": [
    "## 🔹 Bước 3: Cài PyTorch + torchvision bản có CUDA hỗ trợ GPU\n",
    "- Ở dòng này nên chọn bản cuda tương thích với máy đã cài?\n",
    "- Truy cập: https://pytorch.org/get-started/locally/\n",
    "\n",
    "   ### Hoặc dùng lệnh sau để cài trong conda:\n",
    "- pip install torch torchvision torchaudio --index-url https://download.pytorch.org/whl/cu121\n"
   ]
  },
  {
   "cell_type": "markdown",
   "id": "e2306f93",
   "metadata": {},
   "source": [
    "## 🔹 Bước 4: Cài các thư viện còn lại bằng pip\n",
    "- pip install fastapi uvicorn opencv-python-headless\n"
   ]
  },
  {
   "cell_type": "markdown",
   "id": "d816ad39",
   "metadata": {},
   "source": []
  },
  {
   "cell_type": "markdown",
   "id": "9c96fa24",
   "metadata": {},
   "source": [
    "## 🔹 Bước 5: Kiểm tra CUDA hoạt động"
   ]
  },
  {
   "cell_type": "code",
   "execution_count": null,
   "id": "75f8f5b4",
   "metadata": {},
   "outputs": [],
   "source": [
    "import torch\n",
    "print(\"CUDA available:\", torch.cuda.is_available())\n",
    "print(\"CUDA version:\", torch.version.cuda)\n",
    "print(\"GPU name:\", torch.cuda.get_device_name(0))"
   ]
  },
  {
   "cell_type": "markdown",
   "id": "990ee70f",
   "metadata": {},
   "source": [
    "-----------"
   ]
  },
  {
   "cell_type": "markdown",
   "id": "fe0bfb80",
   "metadata": {},
   "source": [
    "## Tiếp theo cài thư viện utralytics\n",
    "- pip install ultralytics\n"
   ]
  },
  {
   "cell_type": "markdown",
   "id": "3bc57bf0",
   "metadata": {},
   "source": [
    "-------------"
   ]
  },
  {
   "cell_type": "markdown",
   "id": "052d0384",
   "metadata": {},
   "source": [
    "## Tải dataset từ WIDERFACE\n",
    "- link : http://shuoyang1213.me/WIDERFACE/\n",
    "\n",
    "- Nghe nói khoảng 32000 ảnh\n",
    "- Tải tập Train gồm 1.4 GB\n",
    "- Tải tập Val gồm 346 MB\n",
    "- Tập Test KHÔNG TẢI 1.7 GB"
   ]
  },
  {
   "cell_type": "markdown",
   "id": "9a0f5f6d",
   "metadata": {},
   "source": [
    "data sau khi giải nén trong file train và val như sau: \n",
    "train/WIDER_train/images/và các folder gồm nhiều loại khác nhau và từng folder đó chứa ảnh khuôn mặt.."
   ]
  },
  {
   "cell_type": "markdown",
   "id": "de68a1f6",
   "metadata": {},
   "source": []
  }
 ],
 "metadata": {
  "kernelspec": {
   "display_name": "yolo_v5",
   "language": "python",
   "name": "python3"
  },
  "language_info": {
   "name": "python",
   "version": "3.10.16"
  }
 },
 "nbformat": 4,
 "nbformat_minor": 5
}
